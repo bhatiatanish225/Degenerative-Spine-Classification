{
 "cells": [
  {
   "cell_type": "code",
   "execution_count": 3,
   "metadata": {},
   "outputs": [],
   "source": [
    "import pandas as pd\n",
    "import numpy as np"
   ]
  },
  {
   "cell_type": "code",
   "execution_count": 4,
   "metadata": {},
   "outputs": [],
   "source": [
    "# Pull all datasets\n",
    "train = pd.read_csv(\"train.csv\")\n",
    "train_descrip = pd.read_csv(\"train_series_descriptions.csv\")\n",
    "train_coord = pd.read_csv(\"train_label_coordinates.csv\")"
   ]
  },
  {
   "cell_type": "code",
   "execution_count": null,
   "metadata": {},
   "outputs": [],
   "source": [
    "# create a map of train_descrip's condition and level with value as train.csv's columnts\n",
    "condition_level_mapping = {\n",
    "    'Left Subarticular Stenosis': {\n",
    "        'L1/L2': 'left_subarticular_stenosis_l1_l2',\n",
    "        'L2/L3': 'left_subarticular_stenosis_l2_l3',\n",
    "        'L3/L4': 'left_subarticular_stenosis_l3_l4',\n",
    "        'L4/L5': 'left_subarticular_stenosis_l4_l5',\n",
    "        'L5/S1': 'left_subarticular_stenosis_l5_s1',\n",
    "    }\n",
    "}"
   ]
  },
  {
   "cell_type": "code",
   "execution_count": null,
   "metadata": {},
   "outputs": [],
   "source": [
    "# for each row, fetch the corresponding severity from train.csv\n",
    "def getSeverity(row) :\n",
    "    condition = row[\"condition\"]\n",
    "    level = row[\"level\"]\n",
    "    col = condition_level_mapping[condition][level]\n",
    "    sev = train.loc[train[\"study_id\"] == row[\"study_id\"],col].values[0]\n",
    "    return sev\n",
    "    "
   ]
  },
  {
   "cell_type": "code",
   "execution_count": null,
   "metadata": {},
   "outputs": [],
   "source": [
    "# create a copy of train_coord and apply getSeverity on each row\n",
    "df=train_coord\n",
    "df[\"severity\"] = df.apply(getSeverity,axis=1)"
   ]
  },
  {
   "cell_type": "code",
   "execution_count": null,
   "metadata": {},
   "outputs": [],
   "source": [
    "# combine train_descrip\n",
    "merged_df = pd.merge(df, train_descrip, on=['study_id', 'series_id'], how='inner')\n",
    "merged_df"
   ]
  },
  {
   "cell_type": "code",
   "execution_count": null,
   "metadata": {},
   "outputs": [],
   "source": [
    "# save master data\n",
    "merged_df.to_csv(\"master_data.csv\")"
   ]
  }
 ],
 "metadata": {
  "kernelspec": {
   "display_name": "Python 3",
   "language": "python",
   "name": "python3"
  },
  "language_info": {
   "codemirror_mode": {
    "name": "ipython",
    "version": 3
   },
   "file_extension": ".py",
   "mimetype": "text/x-python",
   "name": "python",
   "nbconvert_exporter": "python",
   "pygments_lexer": "ipython3",
   "version": "3.10.13"
  }
 },
 "nbformat": 4,
 "nbformat_minor": 2
}
